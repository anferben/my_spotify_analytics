{
 "cells": [
  {
   "cell_type": "markdown",
   "metadata": {},
   "source": [
    "## My Spotify Data Analysis"
   ]
  },
  {
   "cell_type": "markdown",
   "metadata": {},
   "source": [
    "The objective of this analyisis is to start with an EDA that can give me some clues about what kind of Machine Learning project could I do from this data.\n",
    "\n",
    "For instance, I have a couple of ideas:\n",
    "\n",
    "- Clustering the songs and finding potentianl \"like\" new songs of every kind\n",
    "- Predicting if I would like a new song\n",
    "- Make a new songs recomendation\n",
    "\n",
    "The way you can get your personal data from Spotify, can be found in [this article](https://towardsdatascience.com/get-your-spotify-streaming-history-with-python-d5a208bbcbd3)."
   ]
  },
  {
   "cell_type": "markdown",
   "metadata": {},
   "source": [
    "### 1. Importing the data"
   ]
  },
  {
   "cell_type": "code",
   "execution_count": 1,
   "metadata": {},
   "outputs": [],
   "source": [
    "import ast\n",
    "from typing import List\n",
    "from os import listdir"
   ]
  },
  {
   "cell_type": "markdown",
   "metadata": {},
   "source": [
    "What we receive from Spotify is a group of `.json` files. Let's explore the __streaming history__ by adding it to a list: "
   ]
  },
  {
   "cell_type": "code",
   "execution_count": 2,
   "metadata": {},
   "outputs": [],
   "source": [
    "def get_streamings(path: str) -> List[dict]:\n",
    "    file = path + '/my_spotify_data/StreamingHistory0.json'\n",
    "    \n",
    "    all_streamings = []\n",
    "\n",
    "    with open(file, 'r', encoding='UTF-8') as f:\n",
    "        new_stremings = ast.literal_eval(f.read())\n",
    "        all_streamings += [streaming for streaming in new_stremings]\n",
    "\n",
    "    return all_streamings"
   ]
  },
  {
   "cell_type": "markdown",
   "metadata": {},
   "source": [
    "Putting the `get_streamings` in action:"
   ]
  },
  {
   "cell_type": "code",
   "execution_count": 3,
   "metadata": {},
   "outputs": [],
   "source": [
    "streamings = get_streamings('../data')"
   ]
  },
  {
   "cell_type": "code",
   "execution_count": 4,
   "metadata": {},
   "outputs": [
    {
     "name": "stdout",
     "output_type": "stream",
     "text": [
      "4995\n",
      "{'endTime': '2021-01-25 20:53', 'artistName': 'Depeche Mode', 'trackName': 'Strangelove', 'msPlayed': 294569}\n"
     ]
    }
   ],
   "source": [
    "print(len(streamings))\n",
    "print(streamings[333])"
   ]
  },
  {
   "cell_type": "markdown",
   "metadata": {},
   "source": [
    "### 2. Using spotipy to conect to the Spotify API"
   ]
  },
  {
   "cell_type": "code",
   "execution_count": 2,
   "metadata": {},
   "outputs": [
    {
     "name": "stderr",
     "output_type": "stream",
     "text": [
      "/home/andres/anaconda3/envs/spotify_analytics/lib/python3.8/site-packages/requests/__init__.py:89: RequestsDependencyWarning: urllib3 (1.26.8) or chardet (3.0.4) doesn't match a supported version!\n",
      "  warnings.warn(\"urllib3 ({}) or chardet ({}) doesn't match a supported \"\n"
     ]
    }
   ],
   "source": [
    "import spotipy.util as util"
   ]
  },
  {
   "cell_type": "markdown",
   "metadata": {},
   "source": [
    "Let's define our credentials. For this, we have to use __environment varables__ in order to not push our API keys to the GitHub repository:"
   ]
  },
  {
   "cell_type": "code",
   "execution_count": 1,
   "metadata": {},
   "outputs": [],
   "source": [
    "from dotenv import load_dotenv\n",
    "import os"
   ]
  },
  {
   "cell_type": "markdown",
   "metadata": {},
   "source": [
    "Taking the evironment variables from `.env`:"
   ]
  },
  {
   "cell_type": "code",
   "execution_count": 3,
   "metadata": {},
   "outputs": [
    {
     "data": {
      "text/plain": [
       "True"
      ]
     },
     "execution_count": 3,
     "metadata": {},
     "output_type": "execute_result"
    }
   ],
   "source": [
    "load_dotenv()"
   ]
  },
  {
   "cell_type": "code",
   "execution_count": 4,
   "metadata": {},
   "outputs": [],
   "source": [
    "username = os.getenv('username')\n",
    "client_id = os.getenv('client_id')\n",
    "client_secret = os.getenv('client_secret')\n",
    "redirect_uri = os.getenv('redirect_uri')\n",
    "scope = os.getenv('scope')"
   ]
  },
  {
   "cell_type": "markdown",
   "metadata": {},
   "source": [
    "The next function will pop-up a browser window and ask for permission to use my data: "
   ]
  },
  {
   "cell_type": "code",
   "execution_count": 7,
   "metadata": {},
   "outputs": [],
   "source": [
    "token = util.prompt_for_user_token(username=username, scope=scope, client_id=client_id,\n",
    "                                   client_secret=client_secret, redirect_uri=redirect_uri)"
   ]
  },
  {
   "cell_type": "markdown",
   "metadata": {},
   "source": [
    "After agreeing the use of my data, we're going to have a token and a hidden file `.cache-anferben`. As the author of the article says [Vlad Gheorghe](https://medium.com/@contact_84057): \n",
    "\n",
    "\"_it's important that you recall the_ `prompt_for_user_token` _function to load the token every time you run your script_\" "
   ]
  },
  {
   "cell_type": "code",
   "execution_count": 8,
   "metadata": {},
   "outputs": [
    {
     "data": {
      "text/plain": [
       "'BQDVmRt2_5kxNeLmwEK0iYjkLHJyTTVPlOsSxC-sxVzOX8lzT2Ai-Igu4QEIG_IpfCIL8UM47QcMwEzmUKSYs6c1MkrJJEXcmXDVy08BuUMZo4Bu-J4FFzsRJIZybXaPnI2qNs2aRC0dXT6RQkB2'"
      ]
     },
     "execution_count": 8,
     "metadata": {},
     "output_type": "execute_result"
    }
   ],
   "source": [
    "token"
   ]
  },
  {
   "cell_type": "markdown",
   "metadata": {},
   "source": [
    "### 3. Getting the tracks' IDs"
   ]
  },
  {
   "cell_type": "markdown",
   "metadata": {},
   "source": [
    "Since we need the IDs to __request__ the features, we have to retreive them first from the API:"
   ]
  },
  {
   "cell_type": "code",
   "execution_count": 9,
   "metadata": {},
   "outputs": [],
   "source": [
    "import requests"
   ]
  },
  {
   "cell_type": "markdown",
   "metadata": {},
   "source": [
    "The details of headers and params could be seen [here](https://developer.spotify.com/documentation/web-api/reference/#/operations/search)."
   ]
  },
  {
   "cell_type": "code",
   "execution_count": 12,
   "metadata": {},
   "outputs": [],
   "source": [
    "def get_id(track_name: str, token: str) -> str:\n",
    "    headers = {\n",
    "        'Accept': 'application/json',\n",
    "        'Content-Type': 'application/json',\n",
    "        'Authorization': f'Bearer ' + token\n",
    "    }\n",
    "\n",
    "    params = [\n",
    "        ('q', track_name),\n",
    "        ('type', 'track')\n",
    "    ]\n",
    "\n",
    "    try:\n",
    "        r = requests.get('https://api.spotify.com/v1/search', headers=headers,\n",
    "                         params=params, timeout=5)\n",
    "        \n",
    "        json = r.json()\n",
    "        first_result = json['tracks']['items'][0]\n",
    "        track_id = first_result['id']\n",
    "        \n",
    "        return track_id\n",
    "\n",
    "    except:\n",
    "        return None "
   ]
  },
  {
   "cell_type": "markdown",
   "metadata": {},
   "source": [
    "Testing our `get_id` function:"
   ]
  },
  {
   "cell_type": "code",
   "execution_count": 13,
   "metadata": {},
   "outputs": [
    {
     "data": {
      "text/plain": [
       "'6ZCyDN2ArlWB4GKAj644Cd'"
      ]
     },
     "execution_count": 13,
     "metadata": {},
     "output_type": "execute_result"
    }
   ],
   "source": [
    "track_id = get_id('Strangelove', token)\n",
    "track_id"
   ]
  },
  {
   "cell_type": "markdown",
   "metadata": {},
   "source": [
    "### 4. Getting the tracks' features"
   ]
  },
  {
   "cell_type": "code",
   "execution_count": 12,
   "metadata": {},
   "outputs": [],
   "source": [
    "import spotipy"
   ]
  },
  {
   "cell_type": "code",
   "execution_count": 13,
   "metadata": {},
   "outputs": [],
   "source": [
    "def get_features(track_id: str, token: str) -> dict:\n",
    "    sp = spotipy.Spotify(auth=token)\n",
    "\n",
    "    try:\n",
    "        features = sp.audio_features([track_id])\n",
    "        return features[0]\n",
    "\n",
    "    except:\n",
    "        return None"
   ]
  },
  {
   "cell_type": "markdown",
   "metadata": {},
   "source": [
    "Testing our `get_features` function:"
   ]
  },
  {
   "cell_type": "code",
   "execution_count": 14,
   "metadata": {},
   "outputs": [
    {
     "data": {
      "text/plain": [
       "{'danceability': 0.566,\n",
       " 'energy': 0.961,\n",
       " 'key': 4,\n",
       " 'loudness': -3.46,\n",
       " 'mode': 0,\n",
       " 'speechiness': 0.0354,\n",
       " 'acousticness': 0.044,\n",
       " 'instrumentalness': 0.00106,\n",
       " 'liveness': 0.352,\n",
       " 'valence': 0.866,\n",
       " 'tempo': 118.988,\n",
       " 'type': 'audio_features',\n",
       " 'id': '6ZCyDN2ArlWB4GKAj644Cd',\n",
       " 'uri': 'spotify:track:6ZCyDN2ArlWB4GKAj644Cd',\n",
       " 'track_href': 'https://api.spotify.com/v1/tracks/6ZCyDN2ArlWB4GKAj644Cd',\n",
       " 'analysis_url': 'https://api.spotify.com/v1/audio-analysis/6ZCyDN2ArlWB4GKAj644Cd',\n",
       " 'duration_ms': 225880,\n",
       " 'time_signature': 4}"
      ]
     },
     "execution_count": 14,
     "metadata": {},
     "output_type": "execute_result"
    }
   ],
   "source": [
    "features = get_features('6ZCyDN2ArlWB4GKAj644Cd', token)\n",
    "features"
   ]
  },
  {
   "cell_type": "markdown",
   "metadata": {},
   "source": [
    "### 5. Building a streaming history dataframe"
   ]
  },
  {
   "cell_type": "markdown",
   "metadata": {},
   "source": [
    "Firstly, we'll get the unique tracks form our streaming history:"
   ]
  },
  {
   "cell_type": "code",
   "execution_count": 16,
   "metadata": {},
   "outputs": [],
   "source": [
    "streamings = get_streamings('../data')\n",
    "unique_tracks = [streaming['trackName'] for streaming in streamings]"
   ]
  },
  {
   "cell_type": "markdown",
   "metadata": {},
   "source": [
    "First, we're adding the `track_id` to the original streamings dictionary we received from Spotify:"
   ]
  },
  {
   "cell_type": "code",
   "execution_count": 15,
   "metadata": {},
   "outputs": [],
   "source": [
    "for stream in streamings:\n",
    "    track = stream['trackName']\n",
    "    track_id = get_id(track, token)\n",
    "    if track_id:\n",
    "        stream['track_id'] = track_id "
   ]
  },
  {
   "cell_type": "markdown",
   "metadata": {},
   "source": [
    "Loading that into a `.csv` file:"
   ]
  },
  {
   "cell_type": "code",
   "execution_count": 20,
   "metadata": {},
   "outputs": [],
   "source": [
    "df = pd.DataFrame(streamings)\n",
    "df.to_csv('../data/streams.csv', index=False)"
   ]
  },
  {
   "cell_type": "markdown",
   "metadata": {},
   "source": [
    "Extracting every tarck's features:"
   ]
  },
  {
   "cell_type": "code",
   "execution_count": 25,
   "metadata": {},
   "outputs": [
    {
     "name": "stderr",
     "output_type": "stream",
     "text": [
      "HTTP Error for GET to https://api.spotify.com/v1/audio-features/?ids=3mYCd23hPxJW5okSvMoy3x with Params: {} returned 401 due to The access token expired\n"
     ]
    }
   ],
   "source": [
    "all_features = {}\n",
    "\n",
    "for track in unique_tracks:\n",
    "    track_id = get_id(track, token)\n",
    "    features = get_features(track_id, token)\n",
    "    if features:\n",
    "        all_features[track] = features\n",
    "\n",
    "with_features = []\n",
    "\n",
    "for track_name, features in all_features.items():\n",
    "    with_features.append({'name': track_name, **features})    "
   ]
  },
  {
   "cell_type": "code",
   "execution_count": 26,
   "metadata": {},
   "outputs": [
    {
     "data": {
      "text/plain": [
       "{'name': 'Somos Coyotes',\n",
       " 'danceability': 0.62,\n",
       " 'energy': 0.832,\n",
       " 'key': 5,\n",
       " 'loudness': -5.526,\n",
       " 'mode': 0,\n",
       " 'speechiness': 0.0361,\n",
       " 'acousticness': 0.00106,\n",
       " 'instrumentalness': 3.24e-06,\n",
       " 'liveness': 0.096,\n",
       " 'valence': 0.548,\n",
       " 'tempo': 105.998,\n",
       " 'type': 'audio_features',\n",
       " 'id': '0RGuPZmtJxMblQwZIvcNsQ',\n",
       " 'uri': 'spotify:track:0RGuPZmtJxMblQwZIvcNsQ',\n",
       " 'track_href': 'https://api.spotify.com/v1/tracks/0RGuPZmtJxMblQwZIvcNsQ',\n",
       " 'analysis_url': 'https://api.spotify.com/v1/audio-analysis/0RGuPZmtJxMblQwZIvcNsQ',\n",
       " 'duration_ms': 222185,\n",
       " 'time_signature': 4}"
      ]
     },
     "execution_count": 26,
     "metadata": {},
     "output_type": "execute_result"
    }
   ],
   "source": [
    "with_features[0]"
   ]
  },
  {
   "cell_type": "markdown",
   "metadata": {},
   "source": [
    "Exporting the data to a `.csv` file:"
   ]
  },
  {
   "cell_type": "code",
   "execution_count": 18,
   "metadata": {},
   "outputs": [],
   "source": [
    "import pandas as pd"
   ]
  },
  {
   "cell_type": "code",
   "execution_count": 27,
   "metadata": {},
   "outputs": [
    {
     "data": {
      "text/html": [
       "<div>\n",
       "<style scoped>\n",
       "    .dataframe tbody tr th:only-of-type {\n",
       "        vertical-align: middle;\n",
       "    }\n",
       "\n",
       "    .dataframe tbody tr th {\n",
       "        vertical-align: top;\n",
       "    }\n",
       "\n",
       "    .dataframe thead th {\n",
       "        text-align: right;\n",
       "    }\n",
       "</style>\n",
       "<table border=\"1\" class=\"dataframe\">\n",
       "  <thead>\n",
       "    <tr style=\"text-align: right;\">\n",
       "      <th></th>\n",
       "      <th>name</th>\n",
       "      <th>danceability</th>\n",
       "      <th>energy</th>\n",
       "      <th>key</th>\n",
       "      <th>loudness</th>\n",
       "      <th>mode</th>\n",
       "      <th>speechiness</th>\n",
       "      <th>acousticness</th>\n",
       "      <th>instrumentalness</th>\n",
       "      <th>liveness</th>\n",
       "      <th>valence</th>\n",
       "      <th>tempo</th>\n",
       "      <th>type</th>\n",
       "      <th>id</th>\n",
       "      <th>uri</th>\n",
       "      <th>track_href</th>\n",
       "      <th>analysis_url</th>\n",
       "      <th>duration_ms</th>\n",
       "      <th>time_signature</th>\n",
       "    </tr>\n",
       "  </thead>\n",
       "  <tbody>\n",
       "    <tr>\n",
       "      <th>1111</th>\n",
       "      <td>Sure Shot</td>\n",
       "      <td>0.692</td>\n",
       "      <td>0.7990</td>\n",
       "      <td>1</td>\n",
       "      <td>-7.924</td>\n",
       "      <td>1</td>\n",
       "      <td>0.1640</td>\n",
       "      <td>0.38800</td>\n",
       "      <td>0.000000</td>\n",
       "      <td>0.3010</td>\n",
       "      <td>0.5490</td>\n",
       "      <td>97.978</td>\n",
       "      <td>audio_features</td>\n",
       "      <td>21REQ1bCUWphT2QK3bLWYQ</td>\n",
       "      <td>spotify:track:21REQ1bCUWphT2QK3bLWYQ</td>\n",
       "      <td>https://api.spotify.com/v1/tracks/21REQ1bCUWph...</td>\n",
       "      <td>https://api.spotify.com/v1/audio-analysis/21RE...</td>\n",
       "      <td>199667</td>\n",
       "      <td>4</td>\n",
       "    </tr>\n",
       "    <tr>\n",
       "      <th>1112</th>\n",
       "      <td>Como Te Voy a Olvidar - Edit</td>\n",
       "      <td>0.712</td>\n",
       "      <td>0.7350</td>\n",
       "      <td>11</td>\n",
       "      <td>-3.903</td>\n",
       "      <td>0</td>\n",
       "      <td>0.0329</td>\n",
       "      <td>0.11500</td>\n",
       "      <td>0.000383</td>\n",
       "      <td>0.1200</td>\n",
       "      <td>0.9630</td>\n",
       "      <td>150.152</td>\n",
       "      <td>audio_features</td>\n",
       "      <td>1vNuHEbQONnN0DJUBKeUXJ</td>\n",
       "      <td>spotify:track:1vNuHEbQONnN0DJUBKeUXJ</td>\n",
       "      <td>https://api.spotify.com/v1/tracks/1vNuHEbQONnN...</td>\n",
       "      <td>https://api.spotify.com/v1/audio-analysis/1vNu...</td>\n",
       "      <td>254145</td>\n",
       "      <td>4</td>\n",
       "    </tr>\n",
       "    <tr>\n",
       "      <th>1113</th>\n",
       "      <td>Oh Yeah!</td>\n",
       "      <td>0.711</td>\n",
       "      <td>0.6960</td>\n",
       "      <td>5</td>\n",
       "      <td>-6.927</td>\n",
       "      <td>0</td>\n",
       "      <td>0.0515</td>\n",
       "      <td>0.00885</td>\n",
       "      <td>0.000022</td>\n",
       "      <td>0.0755</td>\n",
       "      <td>0.7340</td>\n",
       "      <td>110.904</td>\n",
       "      <td>audio_features</td>\n",
       "      <td>1jas4QjqGPF9jIYukRMKke</td>\n",
       "      <td>spotify:track:1jas4QjqGPF9jIYukRMKke</td>\n",
       "      <td>https://api.spotify.com/v1/tracks/1jas4QjqGPF9...</td>\n",
       "      <td>https://api.spotify.com/v1/audio-analysis/1jas...</td>\n",
       "      <td>169643</td>\n",
       "      <td>4</td>\n",
       "    </tr>\n",
       "    <tr>\n",
       "      <th>1114</th>\n",
       "      <td>Miami - Remasterizado 2008</td>\n",
       "      <td>0.685</td>\n",
       "      <td>0.7830</td>\n",
       "      <td>7</td>\n",
       "      <td>-6.115</td>\n",
       "      <td>0</td>\n",
       "      <td>0.0501</td>\n",
       "      <td>0.05070</td>\n",
       "      <td>0.006120</td>\n",
       "      <td>0.1070</td>\n",
       "      <td>0.7200</td>\n",
       "      <td>88.964</td>\n",
       "      <td>audio_features</td>\n",
       "      <td>5BarjJ1fLPy5cV7ydaijiD</td>\n",
       "      <td>spotify:track:5BarjJ1fLPy5cV7ydaijiD</td>\n",
       "      <td>https://api.spotify.com/v1/tracks/5BarjJ1fLPy5...</td>\n",
       "      <td>https://api.spotify.com/v1/audio-analysis/5Bar...</td>\n",
       "      <td>181027</td>\n",
       "      <td>4</td>\n",
       "    </tr>\n",
       "    <tr>\n",
       "      <th>1115</th>\n",
       "      <td>Among the Clouds</td>\n",
       "      <td>0.174</td>\n",
       "      <td>0.0404</td>\n",
       "      <td>2</td>\n",
       "      <td>-29.213</td>\n",
       "      <td>0</td>\n",
       "      <td>0.0393</td>\n",
       "      <td>0.94700</td>\n",
       "      <td>0.977000</td>\n",
       "      <td>0.1060</td>\n",
       "      <td>0.0397</td>\n",
       "      <td>66.343</td>\n",
       "      <td>audio_features</td>\n",
       "      <td>7KWzzOj2W7ZwkGYJAgX17D</td>\n",
       "      <td>spotify:track:7KWzzOj2W7ZwkGYJAgX17D</td>\n",
       "      <td>https://api.spotify.com/v1/tracks/7KWzzOj2W7Zw...</td>\n",
       "      <td>https://api.spotify.com/v1/audio-analysis/7KWz...</td>\n",
       "      <td>173333</td>\n",
       "      <td>4</td>\n",
       "    </tr>\n",
       "  </tbody>\n",
       "</table>\n",
       "</div>"
      ],
      "text/plain": [
       "                              name  danceability  energy  key  loudness  mode  \\\n",
       "1111                     Sure Shot         0.692  0.7990    1    -7.924     1   \n",
       "1112  Como Te Voy a Olvidar - Edit         0.712  0.7350   11    -3.903     0   \n",
       "1113                      Oh Yeah!         0.711  0.6960    5    -6.927     0   \n",
       "1114    Miami - Remasterizado 2008         0.685  0.7830    7    -6.115     0   \n",
       "1115              Among the Clouds         0.174  0.0404    2   -29.213     0   \n",
       "\n",
       "      speechiness  acousticness  instrumentalness  liveness  valence    tempo  \\\n",
       "1111       0.1640       0.38800          0.000000    0.3010   0.5490   97.978   \n",
       "1112       0.0329       0.11500          0.000383    0.1200   0.9630  150.152   \n",
       "1113       0.0515       0.00885          0.000022    0.0755   0.7340  110.904   \n",
       "1114       0.0501       0.05070          0.006120    0.1070   0.7200   88.964   \n",
       "1115       0.0393       0.94700          0.977000    0.1060   0.0397   66.343   \n",
       "\n",
       "                type                      id  \\\n",
       "1111  audio_features  21REQ1bCUWphT2QK3bLWYQ   \n",
       "1112  audio_features  1vNuHEbQONnN0DJUBKeUXJ   \n",
       "1113  audio_features  1jas4QjqGPF9jIYukRMKke   \n",
       "1114  audio_features  5BarjJ1fLPy5cV7ydaijiD   \n",
       "1115  audio_features  7KWzzOj2W7ZwkGYJAgX17D   \n",
       "\n",
       "                                       uri  \\\n",
       "1111  spotify:track:21REQ1bCUWphT2QK3bLWYQ   \n",
       "1112  spotify:track:1vNuHEbQONnN0DJUBKeUXJ   \n",
       "1113  spotify:track:1jas4QjqGPF9jIYukRMKke   \n",
       "1114  spotify:track:5BarjJ1fLPy5cV7ydaijiD   \n",
       "1115  spotify:track:7KWzzOj2W7ZwkGYJAgX17D   \n",
       "\n",
       "                                             track_href  \\\n",
       "1111  https://api.spotify.com/v1/tracks/21REQ1bCUWph...   \n",
       "1112  https://api.spotify.com/v1/tracks/1vNuHEbQONnN...   \n",
       "1113  https://api.spotify.com/v1/tracks/1jas4QjqGPF9...   \n",
       "1114  https://api.spotify.com/v1/tracks/5BarjJ1fLPy5...   \n",
       "1115  https://api.spotify.com/v1/tracks/7KWzzOj2W7Zw...   \n",
       "\n",
       "                                           analysis_url  duration_ms  \\\n",
       "1111  https://api.spotify.com/v1/audio-analysis/21RE...       199667   \n",
       "1112  https://api.spotify.com/v1/audio-analysis/1vNu...       254145   \n",
       "1113  https://api.spotify.com/v1/audio-analysis/1jas...       169643   \n",
       "1114  https://api.spotify.com/v1/audio-analysis/5Bar...       181027   \n",
       "1115  https://api.spotify.com/v1/audio-analysis/7KWz...       173333   \n",
       "\n",
       "      time_signature  \n",
       "1111               4  \n",
       "1112               4  \n",
       "1113               4  \n",
       "1114               4  \n",
       "1115               4  "
      ]
     },
     "execution_count": 27,
     "metadata": {},
     "output_type": "execute_result"
    }
   ],
   "source": [
    "df = pd.DataFrame(with_features)\n",
    "df.tail()"
   ]
  },
  {
   "cell_type": "code",
   "execution_count": 28,
   "metadata": {},
   "outputs": [],
   "source": [
    "df.to_csv('../data/track_features.csv', index=False)"
   ]
  }
 ],
 "metadata": {
  "interpreter": {
   "hash": "185cb4f1b3c29baae219531d71eecabb4a4fc46774df7b0fb8bf869ab9e8dfbc"
  },
  "kernelspec": {
   "display_name": "Python 3.8.5 64-bit ('spotify_analytics': conda)",
   "language": "python",
   "name": "python3"
  },
  "language_info": {
   "codemirror_mode": {
    "name": "ipython",
    "version": 3
   },
   "file_extension": ".py",
   "mimetype": "text/x-python",
   "name": "python",
   "nbconvert_exporter": "python",
   "pygments_lexer": "ipython3",
   "version": "3.8.5"
  },
  "orig_nbformat": 4
 },
 "nbformat": 4,
 "nbformat_minor": 2
}
