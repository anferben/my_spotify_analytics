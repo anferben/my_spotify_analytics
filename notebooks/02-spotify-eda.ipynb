{
 "cells": [
  {
   "cell_type": "markdown",
   "metadata": {},
   "source": [
    "## Exploratory Data Analysis on my Spotify personal data"
   ]
  },
  {
   "cell_type": "code",
   "execution_count": 113,
   "metadata": {},
   "outputs": [],
   "source": [
    "import pandas as pd\n",
    "import numpy as np\n",
    "import matplotlib.pyplot as plt"
   ]
  },
  {
   "cell_type": "markdown",
   "metadata": {},
   "source": [
    "### 1. Loading and merging the datasets"
   ]
  },
  {
   "cell_type": "markdown",
   "metadata": {},
   "source": [
    "The Streming History data and in general all the data files received from the request to Spotyfy are explained in [Understanding my data - webpage](https://support.spotify.com/us/article/understanding-my-data/).\n",
    "\n",
    "In the same way, song features variables are explained in Spotify's [documentation](https://developer.spotify.com/documentation/web-api/reference/#/operations/get-audio-features)."
   ]
  },
  {
   "cell_type": "code",
   "execution_count": 114,
   "metadata": {},
   "outputs": [],
   "source": [
    "df_track_features = pd.read_csv('../data/track_features.csv')\n",
    "df_artist_genres = pd.read_csv('../data/artist_genres.csv')\n",
    "df_stream_hist = pd.read_csv('../data/streaming_history.csv')"
   ]
  },
  {
   "cell_type": "code",
   "execution_count": 115,
   "metadata": {},
   "outputs": [
    {
     "data": {
      "text/html": [
       "<div>\n",
       "<style scoped>\n",
       "    .dataframe tbody tr th:only-of-type {\n",
       "        vertical-align: middle;\n",
       "    }\n",
       "\n",
       "    .dataframe tbody tr th {\n",
       "        vertical-align: top;\n",
       "    }\n",
       "\n",
       "    .dataframe thead th {\n",
       "        text-align: right;\n",
       "    }\n",
       "</style>\n",
       "<table border=\"1\" class=\"dataframe\">\n",
       "  <thead>\n",
       "    <tr style=\"text-align: right;\">\n",
       "      <th></th>\n",
       "      <th>endTime</th>\n",
       "      <th>artistName</th>\n",
       "      <th>trackName</th>\n",
       "      <th>msPlayed</th>\n",
       "      <th>track_id</th>\n",
       "    </tr>\n",
       "  </thead>\n",
       "  <tbody>\n",
       "    <tr>\n",
       "      <th>0</th>\n",
       "      <td>2020-12-26 06:02</td>\n",
       "      <td>Calle 13</td>\n",
       "      <td>Tango del Pecado (feat. Bajofondo Tango Club &amp;...</td>\n",
       "      <td>252510</td>\n",
       "      <td>6SEMpMXnOe9nvei4yk7wb7</td>\n",
       "    </tr>\n",
       "    <tr>\n",
       "      <th>1</th>\n",
       "      <td>2021-01-10 02:15</td>\n",
       "      <td>Keane</td>\n",
       "      <td>Nothing In My Way</td>\n",
       "      <td>20128</td>\n",
       "      <td>7falOwHJ9MjskdcNehIh79</td>\n",
       "    </tr>\n",
       "    <tr>\n",
       "      <th>2</th>\n",
       "      <td>2021-01-11 15:52</td>\n",
       "      <td>Machine Learning en Español</td>\n",
       "      <td>11 Estadística Inferencial</td>\n",
       "      <td>1487699</td>\n",
       "      <td>NaN</td>\n",
       "    </tr>\n",
       "    <tr>\n",
       "      <th>3</th>\n",
       "      <td>2021-01-11 16:08</td>\n",
       "      <td>Machine Learning en Español</td>\n",
       "      <td>12 Árboles de Decisión</td>\n",
       "      <td>748200</td>\n",
       "      <td>NaN</td>\n",
       "    </tr>\n",
       "    <tr>\n",
       "      <th>4</th>\n",
       "      <td>2021-01-11 17:12</td>\n",
       "      <td>Podcast – Capa 8</td>\n",
       "      <td>#00 – ¿Qué pasó con HTML5 Fácil?</td>\n",
       "      <td>231980</td>\n",
       "      <td>NaN</td>\n",
       "    </tr>\n",
       "  </tbody>\n",
       "</table>\n",
       "</div>"
      ],
      "text/plain": [
       "            endTime                   artistName  \\\n",
       "0  2020-12-26 06:02                     Calle 13   \n",
       "1  2021-01-10 02:15                        Keane   \n",
       "2  2021-01-11 15:52  Machine Learning en Español   \n",
       "3  2021-01-11 16:08  Machine Learning en Español   \n",
       "4  2021-01-11 17:12             Podcast – Capa 8   \n",
       "\n",
       "                                           trackName  msPlayed  \\\n",
       "0  Tango del Pecado (feat. Bajofondo Tango Club &...    252510   \n",
       "1                                  Nothing In My Way     20128   \n",
       "2                         11 Estadística Inferencial   1487699   \n",
       "3                             12 Árboles de Decisión    748200   \n",
       "4                   #00 – ¿Qué pasó con HTML5 Fácil?    231980   \n",
       "\n",
       "                 track_id  \n",
       "0  6SEMpMXnOe9nvei4yk7wb7  \n",
       "1  7falOwHJ9MjskdcNehIh79  \n",
       "2                     NaN  \n",
       "3                     NaN  \n",
       "4                     NaN  "
      ]
     },
     "execution_count": 115,
     "metadata": {},
     "output_type": "execute_result"
    }
   ],
   "source": [
    "df_stream_hist.head()"
   ]
  },
  {
   "cell_type": "markdown",
   "metadata": {},
   "source": [
    "It will be helpful to work only with one dataframe. Let's get the features into our streaming history by merging both datasets:"
   ]
  },
  {
   "cell_type": "code",
   "execution_count": 116,
   "metadata": {},
   "outputs": [
    {
     "data": {
      "text/html": [
       "<div>\n",
       "<style scoped>\n",
       "    .dataframe tbody tr th:only-of-type {\n",
       "        vertical-align: middle;\n",
       "    }\n",
       "\n",
       "    .dataframe tbody tr th {\n",
       "        vertical-align: top;\n",
       "    }\n",
       "\n",
       "    .dataframe thead th {\n",
       "        text-align: right;\n",
       "    }\n",
       "</style>\n",
       "<table border=\"1\" class=\"dataframe\">\n",
       "  <thead>\n",
       "    <tr style=\"text-align: right;\">\n",
       "      <th></th>\n",
       "      <th>0</th>\n",
       "    </tr>\n",
       "  </thead>\n",
       "  <tbody>\n",
       "    <tr>\n",
       "      <th>endTime</th>\n",
       "      <td>2021-01-11 17:13</td>\n",
       "    </tr>\n",
       "    <tr>\n",
       "      <th>artistName</th>\n",
       "      <td>Danza Invisible</td>\n",
       "    </tr>\n",
       "    <tr>\n",
       "      <th>trackName</th>\n",
       "      <td>Agua sin sueño</td>\n",
       "    </tr>\n",
       "    <tr>\n",
       "      <th>msPlayed</th>\n",
       "      <td>65107</td>\n",
       "    </tr>\n",
       "    <tr>\n",
       "      <th>track_id</th>\n",
       "      <td>1vywengPlpJuJggJ9xOUYB</td>\n",
       "    </tr>\n",
       "    <tr>\n",
       "      <th>name</th>\n",
       "      <td>Agua sin sueño</td>\n",
       "    </tr>\n",
       "    <tr>\n",
       "      <th>danceability</th>\n",
       "      <td>0.653</td>\n",
       "    </tr>\n",
       "    <tr>\n",
       "      <th>energy</th>\n",
       "      <td>0.734</td>\n",
       "    </tr>\n",
       "    <tr>\n",
       "      <th>key</th>\n",
       "      <td>0</td>\n",
       "    </tr>\n",
       "    <tr>\n",
       "      <th>loudness</th>\n",
       "      <td>-6.138</td>\n",
       "    </tr>\n",
       "    <tr>\n",
       "      <th>mode</th>\n",
       "      <td>1</td>\n",
       "    </tr>\n",
       "    <tr>\n",
       "      <th>speechiness</th>\n",
       "      <td>0.0261</td>\n",
       "    </tr>\n",
       "    <tr>\n",
       "      <th>acousticness</th>\n",
       "      <td>0.35</td>\n",
       "    </tr>\n",
       "    <tr>\n",
       "      <th>instrumentalness</th>\n",
       "      <td>0.0128</td>\n",
       "    </tr>\n",
       "    <tr>\n",
       "      <th>liveness</th>\n",
       "      <td>0.353</td>\n",
       "    </tr>\n",
       "    <tr>\n",
       "      <th>valence</th>\n",
       "      <td>0.462</td>\n",
       "    </tr>\n",
       "    <tr>\n",
       "      <th>tempo</th>\n",
       "      <td>99.06</td>\n",
       "    </tr>\n",
       "    <tr>\n",
       "      <th>type</th>\n",
       "      <td>audio_features</td>\n",
       "    </tr>\n",
       "    <tr>\n",
       "      <th>id</th>\n",
       "      <td>1vywengPlpJuJggJ9xOUYB</td>\n",
       "    </tr>\n",
       "    <tr>\n",
       "      <th>uri</th>\n",
       "      <td>spotify:track:1vywengPlpJuJggJ9xOUYB</td>\n",
       "    </tr>\n",
       "    <tr>\n",
       "      <th>track_href</th>\n",
       "      <td>https://api.spotify.com/v1/tracks/1vywengPlpJu...</td>\n",
       "    </tr>\n",
       "    <tr>\n",
       "      <th>analysis_url</th>\n",
       "      <td>https://api.spotify.com/v1/audio-analysis/1vyw...</td>\n",
       "    </tr>\n",
       "    <tr>\n",
       "      <th>duration_ms</th>\n",
       "      <td>308693</td>\n",
       "    </tr>\n",
       "    <tr>\n",
       "      <th>time_signature</th>\n",
       "      <td>4</td>\n",
       "    </tr>\n",
       "    <tr>\n",
       "      <th>artist</th>\n",
       "      <td>Danza Invisible</td>\n",
       "    </tr>\n",
       "    <tr>\n",
       "      <th>genre</th>\n",
       "      <td>spanish new wave</td>\n",
       "    </tr>\n",
       "  </tbody>\n",
       "</table>\n",
       "</div>"
      ],
      "text/plain": [
       "                                                                  0\n",
       "endTime                                            2021-01-11 17:13\n",
       "artistName                                          Danza Invisible\n",
       "trackName                                            Agua sin sueño\n",
       "msPlayed                                                      65107\n",
       "track_id                                     1vywengPlpJuJggJ9xOUYB\n",
       "name                                                 Agua sin sueño\n",
       "danceability                                                  0.653\n",
       "energy                                                        0.734\n",
       "key                                                               0\n",
       "loudness                                                     -6.138\n",
       "mode                                                              1\n",
       "speechiness                                                  0.0261\n",
       "acousticness                                                   0.35\n",
       "instrumentalness                                             0.0128\n",
       "liveness                                                      0.353\n",
       "valence                                                       0.462\n",
       "tempo                                                         99.06\n",
       "type                                                 audio_features\n",
       "id                                           1vywengPlpJuJggJ9xOUYB\n",
       "uri                            spotify:track:1vywengPlpJuJggJ9xOUYB\n",
       "track_href        https://api.spotify.com/v1/tracks/1vywengPlpJu...\n",
       "analysis_url      https://api.spotify.com/v1/audio-analysis/1vyw...\n",
       "duration_ms                                                  308693\n",
       "time_signature                                                    4\n",
       "artist                                              Danza Invisible\n",
       "genre                                              spanish new wave"
      ]
     },
     "execution_count": 116,
     "metadata": {},
     "output_type": "execute_result"
    }
   ],
   "source": [
    "df_spotify = df_stream_hist.merge(df_track_features, how='inner', left_on='track_id', right_on='id')\n",
    "df_spotify = df_spotify.merge(df_artist_genres, how='inner', left_on='artistName', right_on='artist')\n",
    "\n",
    "df_spotify.head(1).T"
   ]
  },
  {
   "cell_type": "markdown",
   "metadata": {},
   "source": [
    "### 2. Cleaning the data"
   ]
  },
  {
   "cell_type": "markdown",
   "metadata": {},
   "source": [
    "We'll change some of the column names, in order to have them uniformly presented:"
   ]
  },
  {
   "cell_type": "code",
   "execution_count": 117,
   "metadata": {},
   "outputs": [
    {
     "data": {
      "text/plain": [
       "Index(['end_time', 'artist_name', 'track_name', 'ms_played', 'track_id',\n",
       "       'name', 'danceability', 'energy', 'key', 'loudness', 'mode',\n",
       "       'speechiness', 'acousticness', 'instrumentalness', 'liveness',\n",
       "       'valence', 'tempo', 'type', 'id', 'uri', 'track_href', 'analysis_url',\n",
       "       'duration_ms', 'time_signature', 'artist', 'genre'],\n",
       "      dtype='object')"
      ]
     },
     "execution_count": 117,
     "metadata": {},
     "output_type": "execute_result"
    }
   ],
   "source": [
    "columns_map = {\n",
    "    'endTime': 'end_time',\n",
    "    'artistName': 'artist_name',\n",
    "    'trackName': 'track_name',\n",
    "    'msPlayed': 'ms_played'\n",
    "}\n",
    "\n",
    "df_spotify = df_spotify.rename(columns=columns_map)\n",
    "df_spotify.columns"
   ]
  },
  {
   "cell_type": "markdown",
   "metadata": {},
   "source": [
    "The track name and track id are duplicated, let's get rid of one of them. We're going to get rid of `track_href`, `analysis_url` and `uri` features as well, they're usless for our porposes:"
   ]
  },
  {
   "cell_type": "code",
   "execution_count": 118,
   "metadata": {},
   "outputs": [
    {
     "data": {
      "text/plain": [
       "Index(['end_time', 'artist_name', 'track_name', 'ms_played', 'track_id',\n",
       "       'danceability', 'energy', 'key', 'loudness', 'mode', 'speechiness',\n",
       "       'acousticness', 'instrumentalness', 'liveness', 'valence', 'tempo',\n",
       "       'type', 'duration_ms', 'time_signature', 'artist', 'genre'],\n",
       "      dtype='object')"
      ]
     },
     "execution_count": 118,
     "metadata": {},
     "output_type": "execute_result"
    }
   ],
   "source": [
    "df_spotify = df_spotify.drop(['name', 'id', 'track_href', 'analysis_url', 'uri'], axis=1)\n",
    "df_spotify.columns"
   ]
  },
  {
   "cell_type": "markdown",
   "metadata": {},
   "source": [
    "The variable `['ms_palyed', 'duration_ms']` stands for miliseconds the song was played and it lenth respectively, let's tranformed them into seconds:"
   ]
  },
  {
   "cell_type": "code",
   "execution_count": 119,
   "metadata": {},
   "outputs": [],
   "source": [
    "df_spotify['ms_played'] = round((df_spotify['ms_played'] / 1000), 1)\n",
    "df_spotify['duration_ms'] = round((df_spotify['duration_ms'] / 1000), 1)"
   ]
  },
  {
   "cell_type": "code",
   "execution_count": 120,
   "metadata": {},
   "outputs": [
    {
     "data": {
      "text/plain": [
       "Index(['end_time', 'artist_name', 'track_name', 'ms_played', 'track_id',\n",
       "       'danceability', 'energy', 'key', 'loudness', 'mode', 'speechiness',\n",
       "       'acousticness', 'instrumentalness', 'liveness', 'valence', 'tempo',\n",
       "       'type', 'duration_ms', 'time_signature', 'artist', 'genre'],\n",
       "      dtype='object')"
      ]
     },
     "execution_count": 120,
     "metadata": {},
     "output_type": "execute_result"
    }
   ],
   "source": [
    "col_map = {\n",
    "    'ms_played': 'seconds_played',\n",
    "    'duration_ms': 'duration_s'\n",
    "}\n",
    "\n",
    "df_spotify.columns"
   ]
  },
  {
   "cell_type": "code",
   "execution_count": 121,
   "metadata": {},
   "outputs": [
    {
     "data": {
      "text/html": [
       "<div>\n",
       "<style scoped>\n",
       "    .dataframe tbody tr th:only-of-type {\n",
       "        vertical-align: middle;\n",
       "    }\n",
       "\n",
       "    .dataframe tbody tr th {\n",
       "        vertical-align: top;\n",
       "    }\n",
       "\n",
       "    .dataframe thead th {\n",
       "        text-align: right;\n",
       "    }\n",
       "</style>\n",
       "<table border=\"1\" class=\"dataframe\">\n",
       "  <thead>\n",
       "    <tr style=\"text-align: right;\">\n",
       "      <th></th>\n",
       "      <th>ms_played</th>\n",
       "      <th>duration_ms</th>\n",
       "    </tr>\n",
       "  </thead>\n",
       "  <tbody>\n",
       "    <tr>\n",
       "      <th>0</th>\n",
       "      <td>65.1</td>\n",
       "      <td>308.7</td>\n",
       "    </tr>\n",
       "    <tr>\n",
       "      <th>1</th>\n",
       "      <td>50.4</td>\n",
       "      <td>308.7</td>\n",
       "    </tr>\n",
       "    <tr>\n",
       "      <th>2</th>\n",
       "      <td>182.6</td>\n",
       "      <td>215.9</td>\n",
       "    </tr>\n",
       "    <tr>\n",
       "      <th>3</th>\n",
       "      <td>2.1</td>\n",
       "      <td>215.9</td>\n",
       "    </tr>\n",
       "    <tr>\n",
       "      <th>4</th>\n",
       "      <td>28.0</td>\n",
       "      <td>215.9</td>\n",
       "    </tr>\n",
       "    <tr>\n",
       "      <th>...</th>\n",
       "      <td>...</td>\n",
       "      <td>...</td>\n",
       "    </tr>\n",
       "    <tr>\n",
       "      <th>1872</th>\n",
       "      <td>222.0</td>\n",
       "      <td>222.0</td>\n",
       "    </tr>\n",
       "    <tr>\n",
       "      <th>1873</th>\n",
       "      <td>200.6</td>\n",
       "      <td>357.0</td>\n",
       "    </tr>\n",
       "    <tr>\n",
       "      <th>1874</th>\n",
       "      <td>71.4</td>\n",
       "      <td>244.9</td>\n",
       "    </tr>\n",
       "    <tr>\n",
       "      <th>1875</th>\n",
       "      <td>9.1</td>\n",
       "      <td>189.1</td>\n",
       "    </tr>\n",
       "    <tr>\n",
       "      <th>1876</th>\n",
       "      <td>21.7</td>\n",
       "      <td>205.0</td>\n",
       "    </tr>\n",
       "  </tbody>\n",
       "</table>\n",
       "<p>1877 rows × 2 columns</p>\n",
       "</div>"
      ],
      "text/plain": [
       "      ms_played  duration_ms\n",
       "0          65.1        308.7\n",
       "1          50.4        308.7\n",
       "2         182.6        215.9\n",
       "3           2.1        215.9\n",
       "4          28.0        215.9\n",
       "...         ...          ...\n",
       "1872      222.0        222.0\n",
       "1873      200.6        357.0\n",
       "1874       71.4        244.9\n",
       "1875        9.1        189.1\n",
       "1876       21.7        205.0\n",
       "\n",
       "[1877 rows x 2 columns]"
      ]
     },
     "execution_count": 121,
     "metadata": {},
     "output_type": "execute_result"
    }
   ],
   "source": [
    "df_spotify[['ms_played', 'duration_ms']]"
   ]
  },
  {
   "cell_type": "markdown",
   "metadata": {},
   "source": [
    "These columns are not in ms anymore, let's change their names:"
   ]
  },
  {
   "cell_type": "code",
   "execution_count": 132,
   "metadata": {},
   "outputs": [
    {
     "data": {
      "text/plain": [
       "Index(['end_time', 'artist_name', 'track_name', 'sec_played', 'track_id',\n",
       "       'danceability', 'energy', 'key', 'loudness', 'mode', 'speechiness',\n",
       "       'acousticness', 'instrumentalness', 'liveness', 'valence', 'tempo',\n",
       "       'type', 'duration_sec', 'time_signature', 'artist', 'genre',\n",
       "       'year_played', 'month_played', 'day_played', 'day_of_week_played',\n",
       "       'hour_played'],\n",
       "      dtype='object')"
      ]
     },
     "execution_count": 132,
     "metadata": {},
     "output_type": "execute_result"
    }
   ],
   "source": [
    "cols_map = {\n",
    "    'ms_played': 'sec_played',\n",
    "    'duration_ms': 'duration_sec'\n",
    "} \n",
    "\n",
    "df_spotify.rename(columns=cols_map, inplace=True)\n",
    "\n",
    "df_spotify.columns"
   ]
  },
  {
   "cell_type": "markdown",
   "metadata": {},
   "source": [
    "The times are in UTC format, so it would be useful to have them in my country time, but first we have to chage the `end_time` type column form `object` to `datetme`. Costa Rica is UTC-6: "
   ]
  },
  {
   "cell_type": "code",
   "execution_count": 133,
   "metadata": {},
   "outputs": [],
   "source": [
    "import datetime"
   ]
  },
  {
   "cell_type": "code",
   "execution_count": 134,
   "metadata": {},
   "outputs": [],
   "source": [
    "df_spotify['end_time'] = pd.to_datetime(df_spotify['end_time'])"
   ]
  },
  {
   "cell_type": "code",
   "execution_count": 135,
   "metadata": {},
   "outputs": [
    {
     "data": {
      "text/plain": [
       "0      2021-01-11 05:13:00\n",
       "1      2021-07-16 05:58:00\n",
       "2      2021-01-11 05:22:00\n",
       "3      2021-01-11 05:39:00\n",
       "4      2021-08-26 08:16:00\n",
       "               ...        \n",
       "1872   2022-01-09 19:19:00\n",
       "1873   2022-01-09 19:22:00\n",
       "1874   2022-01-11 02:52:00\n",
       "1875   2022-01-11 03:01:00\n",
       "1876   2022-01-11 03:12:00\n",
       "Name: end_time, Length: 1877, dtype: datetime64[ns]"
      ]
     },
     "execution_count": 135,
     "metadata": {},
     "output_type": "execute_result"
    }
   ],
   "source": [
    "df_spotify['end_time'] = df_spotify['end_time'] - pd.Timedelta(hours=6)\n",
    "df_spotify['end_time']"
   ]
  },
  {
   "cell_type": "markdown",
   "metadata": {},
   "source": [
    "#### 2.1 Looking for missing values and checking data types"
   ]
  },
  {
   "cell_type": "code",
   "execution_count": 136,
   "metadata": {},
   "outputs": [
    {
     "name": "stdout",
     "output_type": "stream",
     "text": [
      "<class 'pandas.core.frame.DataFrame'>\n",
      "Int64Index: 1877 entries, 0 to 1876\n",
      "Data columns (total 26 columns):\n",
      " #   Column              Non-Null Count  Dtype         \n",
      "---  ------              --------------  -----         \n",
      " 0   end_time            1877 non-null   datetime64[ns]\n",
      " 1   artist_name         1877 non-null   object        \n",
      " 2   track_name          1877 non-null   object        \n",
      " 3   sec_played          1877 non-null   float64       \n",
      " 4   track_id            1877 non-null   object        \n",
      " 5   danceability        1877 non-null   float64       \n",
      " 6   energy              1877 non-null   float64       \n",
      " 7   key                 1877 non-null   int64         \n",
      " 8   loudness            1877 non-null   float64       \n",
      " 9   mode                1877 non-null   int64         \n",
      " 10  speechiness         1877 non-null   float64       \n",
      " 11  acousticness        1877 non-null   float64       \n",
      " 12  instrumentalness    1877 non-null   float64       \n",
      " 13  liveness            1877 non-null   float64       \n",
      " 14  valence             1877 non-null   float64       \n",
      " 15  tempo               1877 non-null   float64       \n",
      " 16  type                1877 non-null   object        \n",
      " 17  duration_sec        1877 non-null   float64       \n",
      " 18  time_signature      1877 non-null   int64         \n",
      " 19  artist              1877 non-null   object        \n",
      " 20  genre               1630 non-null   object        \n",
      " 21  year_played         1877 non-null   int64         \n",
      " 22  month_played        1877 non-null   int64         \n",
      " 23  day_played          1877 non-null   int64         \n",
      " 24  day_of_week_played  1877 non-null   object        \n",
      " 25  hour_played         1877 non-null   int64         \n",
      "dtypes: datetime64[ns](1), float64(11), int64(7), object(7)\n",
      "memory usage: 395.9+ KB\n"
     ]
    }
   ],
   "source": [
    "df_spotify.info()"
   ]
  },
  {
   "cell_type": "markdown",
   "metadata": {},
   "source": [
    "As we see, spotify sent us a very complete dataset, and the features extraction through the API was successfully performed [by this process](https://github.com/anferben/my_spotify_analytics/blob/main/notebooks/01.1-getting-song-features.ipynb). However, we see some nulls in the genre feature, we'll deal with them later in the analysis.\n",
    "\n",
    "Now it's time to deal with the `object` type for `end_time` feature:"
   ]
  },
  {
   "cell_type": "code",
   "execution_count": 137,
   "metadata": {},
   "outputs": [
    {
     "data": {
      "text/plain": [
       "end_time    datetime64[ns]\n",
       "dtype: object"
      ]
     },
     "execution_count": 137,
     "metadata": {},
     "output_type": "execute_result"
    }
   ],
   "source": [
    "df_spotify['end_time'] = pd.to_datetime(df_spotify['end_time'])\n",
    "df_spotify.dtypes[:1]  #we knew that end_time was the first feature in the dataset"
   ]
  },
  {
   "cell_type": "markdown",
   "metadata": {},
   "source": [
    "#### 2.2 Data enrichment"
   ]
  },
  {
   "cell_type": "markdown",
   "metadata": {},
   "source": [
    "For EDA porposes, it would be helpful to split the `end_date` columns into year, month, day and hour. This I will be able to answer some certain questions later."
   ]
  },
  {
   "cell_type": "code",
   "execution_count": 138,
   "metadata": {},
   "outputs": [],
   "source": [
    "df_spotify['year_played'] = df_spotify['end_time'].dt.year\n",
    "df_spotify['month_played'] = df_spotify['end_time'].dt.month\n",
    "df_spotify['day_played'] = df_spotify['end_time'].dt.day\n",
    "df_spotify['day_of_week_played'] = df_spotify['end_time'].dt.day_name()\n",
    "df_spotify['hour_played'] = df_spotify['end_time'].dt.hour"
   ]
  },
  {
   "cell_type": "code",
   "execution_count": 139,
   "metadata": {},
   "outputs": [
    {
     "data": {
      "text/html": [
       "<div>\n",
       "<style scoped>\n",
       "    .dataframe tbody tr th:only-of-type {\n",
       "        vertical-align: middle;\n",
       "    }\n",
       "\n",
       "    .dataframe tbody tr th {\n",
       "        vertical-align: top;\n",
       "    }\n",
       "\n",
       "    .dataframe thead th {\n",
       "        text-align: right;\n",
       "    }\n",
       "</style>\n",
       "<table border=\"1\" class=\"dataframe\">\n",
       "  <thead>\n",
       "    <tr style=\"text-align: right;\">\n",
       "      <th></th>\n",
       "      <th>0</th>\n",
       "    </tr>\n",
       "  </thead>\n",
       "  <tbody>\n",
       "    <tr>\n",
       "      <th>end_time</th>\n",
       "      <td>2021-01-11 05:13:00</td>\n",
       "    </tr>\n",
       "    <tr>\n",
       "      <th>artist_name</th>\n",
       "      <td>Danza Invisible</td>\n",
       "    </tr>\n",
       "    <tr>\n",
       "      <th>track_name</th>\n",
       "      <td>Agua sin sueño</td>\n",
       "    </tr>\n",
       "    <tr>\n",
       "      <th>sec_played</th>\n",
       "      <td>65.1</td>\n",
       "    </tr>\n",
       "    <tr>\n",
       "      <th>track_id</th>\n",
       "      <td>1vywengPlpJuJggJ9xOUYB</td>\n",
       "    </tr>\n",
       "    <tr>\n",
       "      <th>danceability</th>\n",
       "      <td>0.653</td>\n",
       "    </tr>\n",
       "    <tr>\n",
       "      <th>energy</th>\n",
       "      <td>0.734</td>\n",
       "    </tr>\n",
       "    <tr>\n",
       "      <th>key</th>\n",
       "      <td>0</td>\n",
       "    </tr>\n",
       "    <tr>\n",
       "      <th>loudness</th>\n",
       "      <td>-6.138</td>\n",
       "    </tr>\n",
       "    <tr>\n",
       "      <th>mode</th>\n",
       "      <td>1</td>\n",
       "    </tr>\n",
       "    <tr>\n",
       "      <th>speechiness</th>\n",
       "      <td>0.0261</td>\n",
       "    </tr>\n",
       "    <tr>\n",
       "      <th>acousticness</th>\n",
       "      <td>0.35</td>\n",
       "    </tr>\n",
       "    <tr>\n",
       "      <th>instrumentalness</th>\n",
       "      <td>0.0128</td>\n",
       "    </tr>\n",
       "    <tr>\n",
       "      <th>liveness</th>\n",
       "      <td>0.353</td>\n",
       "    </tr>\n",
       "    <tr>\n",
       "      <th>valence</th>\n",
       "      <td>0.462</td>\n",
       "    </tr>\n",
       "    <tr>\n",
       "      <th>tempo</th>\n",
       "      <td>99.06</td>\n",
       "    </tr>\n",
       "    <tr>\n",
       "      <th>type</th>\n",
       "      <td>audio_features</td>\n",
       "    </tr>\n",
       "    <tr>\n",
       "      <th>duration_sec</th>\n",
       "      <td>308.7</td>\n",
       "    </tr>\n",
       "    <tr>\n",
       "      <th>time_signature</th>\n",
       "      <td>4</td>\n",
       "    </tr>\n",
       "    <tr>\n",
       "      <th>artist</th>\n",
       "      <td>Danza Invisible</td>\n",
       "    </tr>\n",
       "    <tr>\n",
       "      <th>genre</th>\n",
       "      <td>spanish new wave</td>\n",
       "    </tr>\n",
       "    <tr>\n",
       "      <th>year_played</th>\n",
       "      <td>2021</td>\n",
       "    </tr>\n",
       "    <tr>\n",
       "      <th>month_played</th>\n",
       "      <td>1</td>\n",
       "    </tr>\n",
       "    <tr>\n",
       "      <th>day_played</th>\n",
       "      <td>11</td>\n",
       "    </tr>\n",
       "    <tr>\n",
       "      <th>day_of_week_played</th>\n",
       "      <td>Monday</td>\n",
       "    </tr>\n",
       "    <tr>\n",
       "      <th>hour_played</th>\n",
       "      <td>5</td>\n",
       "    </tr>\n",
       "  </tbody>\n",
       "</table>\n",
       "</div>"
      ],
      "text/plain": [
       "                                         0\n",
       "end_time               2021-01-11 05:13:00\n",
       "artist_name                Danza Invisible\n",
       "track_name                  Agua sin sueño\n",
       "sec_played                            65.1\n",
       "track_id            1vywengPlpJuJggJ9xOUYB\n",
       "danceability                         0.653\n",
       "energy                               0.734\n",
       "key                                      0\n",
       "loudness                            -6.138\n",
       "mode                                     1\n",
       "speechiness                         0.0261\n",
       "acousticness                          0.35\n",
       "instrumentalness                    0.0128\n",
       "liveness                             0.353\n",
       "valence                              0.462\n",
       "tempo                                99.06\n",
       "type                        audio_features\n",
       "duration_sec                         308.7\n",
       "time_signature                           4\n",
       "artist                     Danza Invisible\n",
       "genre                     spanish new wave\n",
       "year_played                           2021\n",
       "month_played                             1\n",
       "day_played                              11\n",
       "day_of_week_played                  Monday\n",
       "hour_played                              5"
      ]
     },
     "execution_count": 139,
     "metadata": {},
     "output_type": "execute_result"
    }
   ],
   "source": [
    "df_spotify.head(1).T"
   ]
  },
  {
   "cell_type": "markdown",
   "metadata": {},
   "source": [
    "### 2. General exploration"
   ]
  },
  {
   "cell_type": "markdown",
   "metadata": {},
   "source": [
    "Total songs played during the last year:"
   ]
  },
  {
   "cell_type": "code",
   "execution_count": 140,
   "metadata": {},
   "outputs": [
    {
     "data": {
      "text/plain": [
       "1877"
      ]
     },
     "execution_count": 140,
     "metadata": {},
     "output_type": "execute_result"
    }
   ],
   "source": [
    "df_spotify.shape[0]"
   ]
  },
  {
   "cell_type": "markdown",
   "metadata": {},
   "source": [
    "Converting total listening time to hours:"
   ]
  },
  {
   "cell_type": "code",
   "execution_count": 142,
   "metadata": {},
   "outputs": [
    {
     "data": {
      "text/plain": [
       "118.81216666666667"
      ]
     },
     "execution_count": 142,
     "metadata": {},
     "output_type": "execute_result"
    }
   ],
   "source": [
    "df_spotify['duration_sec'].sum() / 3600"
   ]
  },
  {
   "cell_type": "markdown",
   "metadata": {},
   "source": [
    "Computing the mean songs listened by day:"
   ]
  },
  {
   "cell_type": "code",
   "execution_count": 144,
   "metadata": {},
   "outputs": [
    {
     "data": {
      "text/plain": [
       "5.142465753424657"
      ]
     },
     "execution_count": 144,
     "metadata": {},
     "output_type": "execute_result"
    }
   ],
   "source": [
    "df_spotify.shape[0] / 365"
   ]
  },
  {
   "cell_type": "markdown",
   "metadata": {},
   "source": [
    "As we see, I played a total of 1877 non-unique songs during the last 12 months, aproximatley from January 2021 to January 2022, which means a total of 118.8 hours listening to music. This also means the I listened aproximately 5 song per day.\n",
    "\n",
    "However, I don't listen to music every single day, so let's see the actual listening behavior, looking at the total songs played by month: "
   ]
  },
  {
   "cell_type": "code",
   "execution_count": 145,
   "metadata": {},
   "outputs": [
    {
     "data": {
      "text/plain": [
       "<AxesSubplot:xlabel='month_played'>"
      ]
     },
     "execution_count": 145,
     "metadata": {},
     "output_type": "execute_result"
    },
    {
     "data": {
      "image/png": "[encoded data removed]",
      "text/plain": [
       "<Figure size 432x288 with 1 Axes>"
      ]
     },
     "metadata": {
      "needs_background": "light"
     },
     "output_type": "display_data"
    }
   ],
   "source": [
    "df_grouped = df_spotify[['month_played', 'track_name']].groupby('month_played').count()\n",
    "df_grouped.plot(kind='bar', legend=False) "
   ]
  },
  {
   "cell_type": "markdown",
   "metadata": {},
   "source": [
    "This show us that the second half of the year was way more active than the first one."
   ]
  },
  {
   "cell_type": "markdown",
   "metadata": {},
   "source": [
    "### 3. Answering some questions"
   ]
  },
  {
   "cell_type": "markdown",
   "metadata": {},
   "source": [
    "#### Q1. What was my top 5 songs played last year?"
   ]
  },
  {
   "cell_type": "code",
   "execution_count": 146,
   "metadata": {},
   "outputs": [
    {
     "data": {
      "text/plain": [
       "track_name         artist_name  \n",
       "Billie Bossa Nova  Billie Eilish    15\n",
       "Oxytocin           Billie Eilish    15\n",
       "Getting Older      Billie Eilish    13\n",
       "Smile              Lily Allen       12\n",
       "my future          Billie Eilish    12\n",
       "dtype: int64"
      ]
     },
     "execution_count": 146,
     "metadata": {},
     "output_type": "execute_result"
    }
   ],
   "source": [
    "df_spotify[['track_name', 'artist_name']].value_counts()[:5]"
   ]
  },
  {
   "cell_type": "markdown",
   "metadata": {},
   "source": [
    "This is very interesting, I've never herd Billie Eilish before, until Spotify suggested me as a new album release. I listened to it and I got hooked! It's a great album but I didn't imagine that 4 out of 5 songs would be from her.\n",
    "\n",
    "I didn't expected for Lily Allen's song Smile. It's an old one, I just remembered that it existed and now I'm sorprised that is #4 in my top 5... wow!"
   ]
  },
  {
   "cell_type": "markdown",
   "metadata": {},
   "source": [
    "#### Q2. Do we have similar results if we look at the top 5 artists?"
   ]
  },
  {
   "cell_type": "code",
   "execution_count": 147,
   "metadata": {},
   "outputs": [
    {
     "data": {
      "text/plain": [
       "Billie Eilish          95\n",
       "Heroes Del Silencio    38\n",
       "Los Garbanzos          38\n",
       "Pearl Jam              28\n",
       "Mala Rodríguez         25\n",
       "Name: artist_name, dtype: int64"
      ]
     },
     "execution_count": 147,
     "metadata": {},
     "output_type": "execute_result"
    }
   ],
   "source": [
    "df_spotify['artist_name'].value_counts()[:5]"
   ]
  },
  {
   "cell_type": "markdown",
   "metadata": {},
   "source": [
    "We would answer yes, and this blows my mind. I listened to Billie Eilish a little more than 2X times than HdS, listening to only __one album__. That's pretty intense."
   ]
  },
  {
   "cell_type": "markdown",
   "metadata": {},
   "source": [
    "#### Q3. What about the genres?"
   ]
  },
  {
   "cell_type": "markdown",
   "metadata": {},
   "source": [
    "I usually say that my favorite genre is rock, but how accurate is this? Let's find out:"
   ]
  },
  {
   "cell_type": "code",
   "execution_count": 165,
   "metadata": {},
   "outputs": [
    {
     "data": {
      "text/plain": [
       "alternative metal    188\n",
       "latin alternative    174\n",
       "alternative rock     146\n",
       "art pop              109\n",
       "rain                  74\n",
       "Name: genre, dtype: int64"
      ]
     },
     "execution_count": 165,
     "metadata": {},
     "output_type": "execute_result"
    }
   ],
   "source": [
    "df_spotify['genre'].value_counts()[:5]"
   ]
  },
  {
   "cell_type": "markdown",
   "metadata": {},
   "source": [
    "The first three guy in the list may be telling us that I'm not lying. Interesting seeing __rain__ here, these are the rain sound tracks that I used to listen to when I go to sleep.\n",
    "\n",
    "So 196 different music styles that I listened to last yaer but, is it the same when we use not just the songs count, but the time a song was played?\n",
    "\n",
    "Let's set a threshold for stablishing if I listened to a song instead of just skipping it as soon as it started:"
   ]
  },
  {
   "cell_type": "code",
   "execution_count": 159,
   "metadata": {},
   "outputs": [],
   "source": [
    "mask = np.where(1 - ((df_spotify['duration_sec'] - df_spotify['sec_played']) / df_spotify['duration_sec']) >= 0.7,\n",
    "         'yes',\n",
    "         'no')\n",
    "\n",
    "df_spotify['song_listened'] = mask"
   ]
  },
  {
   "cell_type": "code",
   "execution_count": 160,
   "metadata": {},
   "outputs": [
    {
     "data": {
      "text/plain": [
       "0        no\n",
       "1        no\n",
       "2       yes\n",
       "3        no\n",
       "4        no\n",
       "       ... \n",
       "1872    yes\n",
       "1873     no\n",
       "1874     no\n",
       "1875     no\n",
       "1876     no\n",
       "Name: song_listened, Length: 1877, dtype: object"
      ]
     },
     "execution_count": 160,
     "metadata": {},
     "output_type": "execute_result"
    }
   ],
   "source": [
    "df_spotify['song_listened']"
   ]
  },
  {
   "cell_type": "markdown",
   "metadata": {},
   "source": [
    "Let's repeat our analysis just for listening to songs:"
   ]
  },
  {
   "cell_type": "code",
   "execution_count": 161,
   "metadata": {},
   "outputs": [],
   "source": [
    "df_listen = df_spotify[df_spotify['song_listened'] == 'yes']"
   ]
  },
  {
   "cell_type": "markdown",
   "metadata": {},
   "source": [
    "Top 5 most listened to songs:"
   ]
  },
  {
   "cell_type": "code",
   "execution_count": 162,
   "metadata": {},
   "outputs": [
    {
     "data": {
      "text/plain": [
       "track_name         artist_name   \n",
       "Oxytocin           Billie Eilish     14\n",
       "Billie Bossa Nova  Billie Eilish     14\n",
       "Getting Older      Billie Eilish     12\n",
       "La Niña            Mala Rodríguez    10\n",
       "Your Power         Billie Eilish      9\n",
       "dtype: int64"
      ]
     },
     "execution_count": 162,
     "metadata": {},
     "output_type": "execute_result"
    }
   ],
   "source": [
    "df_listen[['track_name', 'artist_name']].value_counts()[:5]"
   ]
  },
  {
   "cell_type": "markdown",
   "metadata": {},
   "source": [
    "Top 5 most listened artists:"
   ]
  },
  {
   "cell_type": "code",
   "execution_count": 164,
   "metadata": {},
   "outputs": [
    {
     "data": {
      "text/plain": [
       "Billie Eilish          79\n",
       "Heroes Del Silencio    28\n",
       "Los Garbanzos          23\n",
       "Mala Rodríguez         23\n",
       "Pearl Jam              23\n",
       "Name: artist_name, dtype: int64"
      ]
     },
     "execution_count": 164,
     "metadata": {},
     "output_type": "execute_result"
    }
   ],
   "source": [
    "df_listen['artist_name'].value_counts()[:5]"
   ]
  },
  {
   "cell_type": "markdown",
   "metadata": {},
   "source": [
    "Top 5 most listened genres:"
   ]
  },
  {
   "cell_type": "code",
   "execution_count": 166,
   "metadata": {},
   "outputs": [
    {
     "data": {
      "text/plain": [
       "latin alternative    126\n",
       "alternative metal    112\n",
       "art pop               89\n",
       "alternative rock      86\n",
       "rain                  69\n",
       "Name: genre, dtype: int64"
      ]
     },
     "execution_count": 166,
     "metadata": {},
     "output_type": "execute_result"
    }
   ],
   "source": [
    "df_listen['genre'].value_counts()[:5]"
   ]
  },
  {
   "cell_type": "code",
   "execution_count": 173,
   "metadata": {},
   "outputs": [],
   "source": [
    "numerical = ['sec_played', 'danceability', 'energy', 'key', 'loudness', 'mode',\n",
    "             'speechiness', 'acousticness', 'instrumentalness', 'liveness', 'valence',\n",
    "             'tempo', 'type', 'duration_sec', 'time_signature']\n",
    "\n",
    "corr_matrix = df_spotify[numerical].corr()"
   ]
  },
  {
   "cell_type": "markdown",
   "metadata": {},
   "source": [
    "ploting some bubble charts using genre..."
   ]
  }
 ],
 "metadata": {
  "interpreter": {
   "hash": "185cb4f1b3c29baae219531d71eecabb4a4fc46774df7b0fb8bf869ab9e8dfbc"
  },
  "kernelspec": {
   "display_name": "Python 3.8.5 64-bit ('spotify_analytics': conda)",
   "language": "python",
   "name": "python3"
  },
  "language_info": {
   "codemirror_mode": {
    "name": "ipython",
    "version": 3
   },
   "file_extension": ".py",
   "mimetype": "text/x-python",
   "name": "python",
   "nbconvert_exporter": "python",
   "pygments_lexer": "ipython3",
   "version": "3.8.5"
  },
  "orig_nbformat": 4
 },
 "nbformat": 4,
 "nbformat_minor": 2
}
