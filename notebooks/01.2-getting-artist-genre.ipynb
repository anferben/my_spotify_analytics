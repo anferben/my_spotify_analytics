{
 "cells": [
  {
   "cell_type": "markdown",
   "metadata": {},
   "source": [
    "## Getting song analysis from `analysis_url` feautre"
   ]
  },
  {
   "cell_type": "markdown",
   "metadata": {},
   "source": [
    "In notebook 01.1 we could extract song's features. One of them (analysis_url`) give us a \"place\" in the API to retieve a extended analysis for a particular song."
   ]
  },
  {
   "cell_type": "code",
   "execution_count": 32,
   "metadata": {},
   "outputs": [],
   "source": [
    "import ast\n",
    "import os\n",
    "\n",
    "from typing import List\n",
    "from os import listdir\n",
    "from dotenv import load_dotenv\n",
    "\n",
    "import requests\n",
    "import spotipy\n",
    "import spotipy.util as util\n",
    "\n",
    "import pandas as pd"
   ]
  },
  {
   "cell_type": "markdown",
   "metadata": {},
   "source": [
    "Loading the evironment variables from `.env`:"
   ]
  },
  {
   "cell_type": "code",
   "execution_count": 3,
   "metadata": {},
   "outputs": [
    {
     "data": {
      "text/plain": [
       "True"
      ]
     },
     "execution_count": 3,
     "metadata": {},
     "output_type": "execute_result"
    }
   ],
   "source": [
    "load_dotenv()"
   ]
  },
  {
   "cell_type": "markdown",
   "metadata": {},
   "source": [
    "Asking permission to use my data and getting the token:"
   ]
  },
  {
   "cell_type": "code",
   "execution_count": 40,
   "metadata": {},
   "outputs": [],
   "source": [
    "def get_token():\n",
    "    username = os.getenv('username')\n",
    "    client_id = os.getenv('client_id')\n",
    "    client_secret = os.getenv('client_secret')\n",
    "    redirect_uri = os.getenv('redirect_uri')\n",
    "    scope = os.getenv('scope')\n",
    "\n",
    "    token = util.prompt_for_user_token(username=username, scope=scope, client_id=client_id,\n",
    "                                    client_secret=client_secret, redirect_uri=redirect_uri)\n",
    "\n",
    "    return token"
   ]
  },
  {
   "cell_type": "markdown",
   "metadata": {},
   "source": [
    "Loading my streaming data:"
   ]
  },
  {
   "cell_type": "code",
   "execution_count": 5,
   "metadata": {},
   "outputs": [],
   "source": [
    "def get_streamings(path: str) -> List[dict]:\n",
    "    file = path + '/my_spotify_data/StreamingHistory0.json'\n",
    "    \n",
    "    all_streamings = []\n",
    "\n",
    "    with open(file, 'r', encoding='UTF-8') as f:\n",
    "        new_stremings = ast.literal_eval(f.read())\n",
    "        all_streamings += [streaming for streaming in new_stremings]\n",
    "\n",
    "    return all_streamings"
   ]
  },
  {
   "cell_type": "code",
   "execution_count": 6,
   "metadata": {},
   "outputs": [],
   "source": [
    "streamings = get_streamings('../data')"
   ]
  },
  {
   "cell_type": "code",
   "execution_count": 12,
   "metadata": {},
   "outputs": [
    {
     "data": {
      "text/plain": [
       "'The Killers'"
      ]
     },
     "execution_count": 12,
     "metadata": {},
     "output_type": "execute_result"
    }
   ],
   "source": [
    "name = streamings[123]['artistName']\n",
    "name"
   ]
  },
  {
   "cell_type": "markdown",
   "metadata": {},
   "source": [
    "Getting __artist id__ and __genres__ from `artistName`. We'll select the first item from the genres' list, because Spotify explains that the first one is the most representative."
   ]
  },
  {
   "cell_type": "code",
   "execution_count": 27,
   "metadata": {},
   "outputs": [],
   "source": [
    "def get_artist_data(artist_name: str, token: str) -> str:\n",
    "    # setting the header and parameters for requesting the API\n",
    "    headers = {\n",
    "        'Accept': 'application/json',\n",
    "        'Content-Type': 'application/json',\n",
    "        'Authorization': f'Bearer ' + token\n",
    "    }\n",
    "\n",
    "    params = [\n",
    "        ('q', artist_name),\n",
    "        ('type', 'artist')\n",
    "    ]\n",
    "\n",
    "    try:\n",
    "        r = requests.get('https://api.spotify.com/v1/search', headers=headers,\n",
    "                         params=params, timeout=5)\n",
    "        \n",
    "        json = r.json()\n",
    "        # selecting the item that contains the info needed\n",
    "        first_result = json['artists']['items'][0]\n",
    "        #retreiving the data needed\n",
    "        #artist_id = first_result['id']\n",
    "        genre = first_result['genres'][0]\n",
    "        \n",
    "        return genre\n",
    "\n",
    "    except:\n",
    "        return None "
   ]
  },
  {
   "cell_type": "markdown",
   "metadata": {},
   "source": [
    "We've selected the first item from the genres' list, because Spotify explains that the first one is the most representative."
   ]
  },
  {
   "cell_type": "code",
   "execution_count": 37,
   "metadata": {},
   "outputs": [
    {
     "data": {
      "text/plain": [
       "'alternative rock'"
      ]
     },
     "execution_count": 37,
     "metadata": {},
     "output_type": "execute_result"
    }
   ],
   "source": [
    "genre = get_artist_data(artist_name=name, token=token)\n",
    "genre"
   ]
  },
  {
   "cell_type": "markdown",
   "metadata": {},
   "source": [
    "Requesting the genres and ids for the entire dataset:"
   ]
  },
  {
   "cell_type": "code",
   "execution_count": 29,
   "metadata": {},
   "outputs": [],
   "source": [
    "unique_artists = list(set([streaming['artistName'] for streaming in streamings]))"
   ]
  },
  {
   "cell_type": "code",
   "execution_count": 38,
   "metadata": {},
   "outputs": [
    {
     "data": {
      "text/plain": [
       "'rain'"
      ]
     },
     "execution_count": 38,
     "metadata": {},
     "output_type": "execute_result"
    }
   ],
   "source": [
    "a = get_artist_data('Zuni', token)\n",
    "a"
   ]
  },
  {
   "cell_type": "code",
   "execution_count": 41,
   "metadata": {},
   "outputs": [],
   "source": [
    "artist_data = []\n",
    "token = get_token()\n",
    "\n",
    "for artist in unique_artists:\n",
    "    genre = get_artist_data(artist, token)\n",
    "\n",
    "    artist_data.append((artist, genre))\n",
    "\n",
    "df_artists = pd.DataFrame(artist_data, columns=['artist', 'genre'])"
   ]
  },
  {
   "cell_type": "code",
   "execution_count": 42,
   "metadata": {},
   "outputs": [
    {
     "data": {
      "text/html": [
       "<div>\n",
       "<style scoped>\n",
       "    .dataframe tbody tr th:only-of-type {\n",
       "        vertical-align: middle;\n",
       "    }\n",
       "\n",
       "    .dataframe tbody tr th {\n",
       "        vertical-align: top;\n",
       "    }\n",
       "\n",
       "    .dataframe thead th {\n",
       "        text-align: right;\n",
       "    }\n",
       "</style>\n",
       "<table border=\"1\" class=\"dataframe\">\n",
       "  <thead>\n",
       "    <tr style=\"text-align: right;\">\n",
       "      <th></th>\n",
       "      <th>artist</th>\n",
       "      <th>genre</th>\n",
       "    </tr>\n",
       "  </thead>\n",
       "  <tbody>\n",
       "    <tr>\n",
       "      <th>0</th>\n",
       "      <td>Zuni</td>\n",
       "      <td>rain</td>\n",
       "    </tr>\n",
       "    <tr>\n",
       "      <th>1</th>\n",
       "      <td>Rusty Eye</td>\n",
       "      <td>None</td>\n",
       "    </tr>\n",
       "    <tr>\n",
       "      <th>2</th>\n",
       "      <td>Olivier Lupin</td>\n",
       "      <td>None</td>\n",
       "    </tr>\n",
       "    <tr>\n",
       "      <th>3</th>\n",
       "      <td>Spin Doctors</td>\n",
       "      <td>alternative rock</td>\n",
       "    </tr>\n",
       "    <tr>\n",
       "      <th>4</th>\n",
       "      <td>Sonic Brainwaves</td>\n",
       "      <td>binaural</td>\n",
       "    </tr>\n",
       "    <tr>\n",
       "      <th>...</th>\n",
       "      <td>...</td>\n",
       "      <td>...</td>\n",
       "    </tr>\n",
       "    <tr>\n",
       "      <th>1645</th>\n",
       "      <td>Florence + The Machine</td>\n",
       "      <td>art pop</td>\n",
       "    </tr>\n",
       "    <tr>\n",
       "      <th>1646</th>\n",
       "      <td>FISHER</td>\n",
       "      <td>australian house</td>\n",
       "    </tr>\n",
       "    <tr>\n",
       "      <th>1647</th>\n",
       "      <td>Pablo Alborán</td>\n",
       "      <td>latin</td>\n",
       "    </tr>\n",
       "    <tr>\n",
       "      <th>1648</th>\n",
       "      <td>Shakira</td>\n",
       "      <td>colombian pop</td>\n",
       "    </tr>\n",
       "    <tr>\n",
       "      <th>1649</th>\n",
       "      <td>Charlie Roscoe</td>\n",
       "      <td>None</td>\n",
       "    </tr>\n",
       "  </tbody>\n",
       "</table>\n",
       "<p>1650 rows × 2 columns</p>\n",
       "</div>"
      ],
      "text/plain": [
       "                      artist             genre\n",
       "0                       Zuni              rain\n",
       "1                  Rusty Eye              None\n",
       "2              Olivier Lupin              None\n",
       "3               Spin Doctors  alternative rock\n",
       "4           Sonic Brainwaves          binaural\n",
       "...                      ...               ...\n",
       "1645  Florence + The Machine           art pop\n",
       "1646                  FISHER  australian house\n",
       "1647           Pablo Alborán             latin\n",
       "1648                 Shakira     colombian pop\n",
       "1649          Charlie Roscoe              None\n",
       "\n",
       "[1650 rows x 2 columns]"
      ]
     },
     "execution_count": 42,
     "metadata": {},
     "output_type": "execute_result"
    }
   ],
   "source": [
    "df_genres = pd.DataFrame(artist_data, columns=['artist', 'genre'])\n",
    "df_genres"
   ]
  },
  {
   "cell_type": "markdown",
   "metadata": {},
   "source": [
    "Saving the genres data into a csv file:"
   ]
  },
  {
   "cell_type": "code",
   "execution_count": 44,
   "metadata": {},
   "outputs": [],
   "source": [
    "df_genres.to_csv('../data/artist_genres.csv', index=False)"
   ]
  }
 ],
 "metadata": {
  "interpreter": {
   "hash": "185cb4f1b3c29baae219531d71eecabb4a4fc46774df7b0fb8bf869ab9e8dfbc"
  },
  "kernelspec": {
   "display_name": "Python 3.8.5 64-bit ('spotify_analytics': conda)",
   "language": "python",
   "name": "python3"
  },
  "language_info": {
   "codemirror_mode": {
    "name": "ipython",
    "version": 3
   },
   "file_extension": ".py",
   "mimetype": "text/x-python",
   "name": "python",
   "nbconvert_exporter": "python",
   "pygments_lexer": "ipython3",
   "version": "3.8.5"
  },
  "orig_nbformat": 4
 },
 "nbformat": 4,
 "nbformat_minor": 2
}
