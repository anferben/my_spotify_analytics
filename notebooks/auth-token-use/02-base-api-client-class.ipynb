{
 "cells": [
  {
   "cell_type": "code",
   "execution_count": 1,
   "metadata": {},
   "outputs": [],
   "source": [
    "import requests\n",
    "import base64\n",
    "import datetime\n",
    "\n",
    "from dotenv import load_dotenv\n",
    "import os"
   ]
  },
  {
   "cell_type": "code",
   "execution_count": 2,
   "metadata": {},
   "outputs": [
    {
     "data": {
      "text/plain": [
       "True"
      ]
     },
     "execution_count": 2,
     "metadata": {},
     "output_type": "execute_result"
    }
   ],
   "source": [
    "load_dotenv()"
   ]
  },
  {
   "cell_type": "code",
   "execution_count": 3,
   "metadata": {},
   "outputs": [],
   "source": [
    "client_id = os.getenv('client_id')\n",
    "client_secret = os.getenv('client_secret')"
   ]
  },
  {
   "cell_type": "markdown",
   "metadata": {},
   "source": [
    "I'm pasting those `client id` directly from the dev website, BUT... it would be better to retrieve them using a scrypt, so you don't have to keep'em static and visible in our notebook."
   ]
  },
  {
   "cell_type": "code",
   "execution_count": 4,
   "metadata": {},
   "outputs": [],
   "source": [
    "class SpotifyAPI(object):\n",
    "    access_token = None\n",
    "    access_token_expires = datetime.datetime.now()\n",
    "    access_token_did_expires = True\n",
    "    client_id = None\n",
    "    client_secret = None\n",
    "    token_url = 'https://accounts.spotify.com/api/token'\n",
    "\n",
    "    def __init__(self, client_id, client_secret, *args, **kwargs):\n",
    "        super().__init__(*args, **kwargs)\n",
    "        self.client_id = client_id\n",
    "        self.client_secret = client_secret\n",
    "        \n",
    "    def get_client_credentials(self):\n",
    "        \"\"\"\n",
    "        Returns a base64 encoded string\n",
    "        \"\"\"\n",
    "        \n",
    "        client_id = self.client_id\n",
    "        client_secret = self.client_secret\n",
    "        \n",
    "        if client_id == None or client_secret == None:\n",
    "            raise Exception('You must set client_id and client_secret')\n",
    "        \n",
    "        client_credentials = f'{client_id}:{client_secret}'\n",
    "        client_credentials_b64 = base64.b64encode(client_credentials.encode())\n",
    "        \n",
    "        return client_credentials_b64.decode()\n",
    "\n",
    "    def get_token_headers(self):\n",
    "        client_credentials_b64 = self.get_client_credentials()\n",
    "        \n",
    "        return {\n",
    "            'authorization': f'Basic {client_credentials_b64}'\n",
    "        }\n",
    "\n",
    "    def get_token_data(self):\n",
    "        return {\n",
    "            'grant_type': 'client_credentials'\n",
    "        }\n",
    "\n",
    "    def perform_auth(self):\n",
    "        token_url = self.token_url\n",
    "        token_data = self.get_token_data()\n",
    "        token_headers = self.get_token_headers()\n",
    "\n",
    "        r = requests.post(token_url, data=token_data, headers=token_headers)\n",
    "\n",
    "        if r.status_code not in range(200, 299):\n",
    "            return False\n",
    "\n",
    "        data = r.json()\n",
    "        access_token = data['access_token']\n",
    "        now = datetime.datetime.now()\n",
    "        expires_in = data['expires_in']  # seconds\n",
    "        expires = now + datetime.timedelta(seconds=expires_in)\n",
    "        self.access_token = access_token\n",
    "        self.access_token_expires = expires\n",
    "        self.access_token_did_expires = expires < now\n",
    "        \n",
    "        return True\n",
    "        "
   ]
  },
  {
   "cell_type": "code",
   "execution_count": 5,
   "metadata": {},
   "outputs": [],
   "source": [
    "client = SpotifyAPI(client_id, client_secret)"
   ]
  },
  {
   "cell_type": "code",
   "execution_count": 6,
   "metadata": {},
   "outputs": [
    {
     "data": {
      "text/plain": [
       "True"
      ]
     },
     "execution_count": 6,
     "metadata": {},
     "output_type": "execute_result"
    }
   ],
   "source": [
    "client.perform_auth()"
   ]
  },
  {
   "cell_type": "code",
   "execution_count": 7,
   "metadata": {},
   "outputs": [
    {
     "data": {
      "text/plain": [
       "'BQDv1-bEE0_M4mIEswK8AMGz6Kv7bYgIQmid6dySJ-EC3GzNI5Ugpx2DYwWmZzzxcyXAP-XB71HAO8NbxxE'"
      ]
     },
     "execution_count": 7,
     "metadata": {},
     "output_type": "execute_result"
    }
   ],
   "source": [
    "client.access_token"
   ]
  }
 ],
 "metadata": {
  "interpreter": {
   "hash": "185cb4f1b3c29baae219531d71eecabb4a4fc46774df7b0fb8bf869ab9e8dfbc"
  },
  "kernelspec": {
   "display_name": "Python 3.8.5 64-bit ('spotify_analytics': conda)",
   "language": "python",
   "name": "python3"
  },
  "language_info": {
   "codemirror_mode": {
    "name": "ipython",
    "version": 3
   },
   "file_extension": ".py",
   "mimetype": "text/x-python",
   "name": "python",
   "nbconvert_exporter": "python",
   "pygments_lexer": "ipython3",
   "version": "3.8.5"
  },
  "orig_nbformat": 4
 },
 "nbformat": 4,
 "nbformat_minor": 2
}
