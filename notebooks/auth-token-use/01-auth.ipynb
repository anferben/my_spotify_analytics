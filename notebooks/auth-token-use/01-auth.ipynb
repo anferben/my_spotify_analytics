{
 "cells": [
  {
   "cell_type": "code",
   "execution_count": 1,
   "metadata": {},
   "outputs": [],
   "source": [
    "import requests\n",
    "import base64\n",
    "import datetime"
   ]
  },
  {
   "cell_type": "code",
   "execution_count": 2,
   "metadata": {},
   "outputs": [],
   "source": [
    "client_id = 'cc734c51aec34525ace44bf1ba41b538'\n",
    "client_secret = '087993d745b44fa7880fb5c922777a0a'"
   ]
  },
  {
   "cell_type": "markdown",
   "metadata": {},
   "source": [
    "I'm pasting those `client id` directly from the dev website, BUT... it would be better to retrieve them using a scrypt, so you don't have to keep'em static and visible in our notebook."
   ]
  },
  {
   "cell_type": "code",
   "execution_count": 3,
   "metadata": {},
   "outputs": [
    {
     "data": {
      "text/plain": [
       "str"
      ]
     },
     "execution_count": 3,
     "metadata": {},
     "output_type": "execute_result"
    }
   ],
   "source": [
    "client_credentials = f'{client_id}:{client_secret}'\n",
    "type(client_credentials)"
   ]
  },
  {
   "cell_type": "markdown",
   "metadata": {},
   "source": [
    "We have the `client_credentials` as a string and we need it as byts:"
   ]
  },
  {
   "cell_type": "code",
   "execution_count": 4,
   "metadata": {},
   "outputs": [
    {
     "data": {
      "text/plain": [
       "b'cc734c51aec34525ace44bf1ba41b538:087993d745b44fa7880fb5c922777a0a'"
      ]
     },
     "execution_count": 4,
     "metadata": {},
     "output_type": "execute_result"
    }
   ],
   "source": [
    "client_credentials.encode()"
   ]
  },
  {
   "cell_type": "markdown",
   "metadata": {},
   "source": [
    "It's encoded, but we need it encoded in Base 64, so:"
   ]
  },
  {
   "cell_type": "code",
   "execution_count": 5,
   "metadata": {},
   "outputs": [
    {
     "name": "stdout",
     "output_type": "stream",
     "text": [
      "b'Y2M3MzRjNTFhZWMzNDUyNWFjZTQ0YmYxYmE0MWI1Mzg6MDg3OTkzZDc0NWI0NGZhNzg4MGZiNWM5MjI3NzdhMGE='\n",
      "<class 'bytes'>\n"
     ]
    }
   ],
   "source": [
    "client_credentials_b64 = base64.b64encode(client_credentials.encode())\n",
    "print(client_credentials_b64)\n",
    "print(type(client_credentials_b64))"
   ]
  },
  {
   "cell_type": "markdown",
   "metadata": {},
   "source": [
    "Let's get our variables set, according to the \n",
    "[spotify docs](https://developer.spotify.com/documentation/general/guides/authorization/client-credentials/)"
   ]
  },
  {
   "cell_type": "code",
   "execution_count": 6,
   "metadata": {},
   "outputs": [],
   "source": [
    "token_url = 'https://accounts.spotify.com/api/token'\n",
    "method = 'POST'\n",
    "token_data = {\n",
    "    'grant_type': 'client_credentials'\n",
    "}\n",
    "token_headers = {\n",
    "    'authorization': f'Basic {client_credentials_b64.decode()}'  # Basic <base64 encoded client_id:client_secret>\n",
    "}"
   ]
  },
  {
   "cell_type": "markdown",
   "metadata": {},
   "source": [
    "Doing the request:"
   ]
  },
  {
   "cell_type": "code",
   "execution_count": 7,
   "metadata": {},
   "outputs": [
    {
     "name": "stdout",
     "output_type": "stream",
     "text": [
      "{'access_token': 'BQCiQ_mpV5-_ngqzvsFs8i4ibB_4MFEJ8MKeFFAoznEcpQOqqRbuTrI28psodtrXa6JMeEwbwCoy_LifWcE', 'token_type': 'Bearer', 'expires_in': 3600}\n"
     ]
    }
   ],
   "source": [
    "r = requests.post(token_url, data=token_data, headers=token_headers)\n",
    "print(token_response_data)\n",
    "valid_request = r.status_code in range(200, 299)"
   ]
  },
  {
   "cell_type": "markdown",
   "metadata": {},
   "source": [
    "Getting our token:"
   ]
  },
  {
   "cell_type": "code",
   "execution_count": 8,
   "metadata": {},
   "outputs": [],
   "source": [
    "if valid_request:\n",
    "    token_response_data = r.json()\n",
    "    access_token = token_response_data['access_token']\n",
    "\n",
    "    now = datetime.datetime.now()\n",
    "    expires_in = token_response_data['expires_in']\n",
    "    expires = now + datetime.timedelta(seconds=expires_in)\n",
    "    did_expire = expires < now"
   ]
  }
 ],
 "metadata": {
  "interpreter": {
   "hash": "185cb4f1b3c29baae219531d71eecabb4a4fc46774df7b0fb8bf869ab9e8dfbc"
  },
  "kernelspec": {
   "display_name": "Python 3.8.5 64-bit ('spotify_analytics': conda)",
   "language": "python",
   "name": "python3"
  },
  "language_info": {
   "codemirror_mode": {
    "name": "ipython",
    "version": 3
   },
   "file_extension": ".py",
   "mimetype": "text/x-python",
   "name": "python",
   "nbconvert_exporter": "python",
   "pygments_lexer": "ipython3",
   "version": "3.8.5"
  },
  "orig_nbformat": 4
 },
 "nbformat": 4,
 "nbformat_minor": 2
}
